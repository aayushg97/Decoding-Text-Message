{
 "cells": [
  {
   "cell_type": "code",
   "execution_count": 3,
   "id": "138cd2aa",
   "metadata": {},
   "outputs": [],
   "source": [
    "import numpy as np\n",
    "import matplotlib.pyplot as plt\n",
    "\n",
    "# initialize n, T, initial state vector, tansition matrix and emission matrix\n",
    "n=27\n",
    "T = 430000\n",
    "pi = []\n",
    "a = []\n",
    "b = []\n",
    "obs = []"
   ]
  },
  {
   "cell_type": "code",
   "execution_count": 4,
   "id": "1b57e4c6",
   "metadata": {},
   "outputs": [],
   "source": [
    "# Fill initial state vector\n",
    "with open('initialStateDistribution.txt', 'r') as f:\n",
    "    lines = f.readlines()\n",
    "    for line in lines:\n",
    "        pi.append(float(line.replace('\\n','')))\n",
    "        \n",
    "pi = np.array(pi)\n",
    "        \n",
    "# Fill transition matrix\n",
    "with open('transitionMatrix.txt', 'r') as f:\n",
    "    lines = f.readlines()\n",
    "    for line in lines:\n",
    "        a.append([float(num) for num in line.replace('\\n','').split(' ')])\n",
    "        \n",
    "a = np.array(a)\n",
    "        \n",
    "# Fill emission matrix\n",
    "with open('emissionMatrix.txt', 'r') as f:\n",
    "    lines = f.readlines()\n",
    "    for line in lines:\n",
    "        b.append([float(num) for num in line.replace('\\n','').split('\\t')])\n",
    "        \n",
    "b = np.array(b)\n",
    "        \n",
    "# Fill observations\n",
    "with open('observations.txt', 'r') as f:\n",
    "    lines = f.readlines()\n",
    "    for line in lines:\n",
    "        obs = [int(num) for num in line.replace('\\n','').split(' ')]\n",
    "        \n",
    "obs = np.array(obs)"
   ]
  },
  {
   "cell_type": "code",
   "execution_count": 5,
   "id": "0c1494ab",
   "metadata": {},
   "outputs": [
    {
     "name": "stdout",
     "output_type": "stream",
     "text": [
      "a house divided against itself canot stand\n"
     ]
    }
   ],
   "source": [
    "# Compute matrix L\n",
    "L = np.zeros((n,T))\n",
    "\n",
    "# Fill first column\n",
    "for i in range(0,n):\n",
    "    L[i,0] = np.log(pi[i]) + np.log(b[i,obs[0]])\n",
    "    \n",
    "# Fill other columns using previous columns (Viterbi)\n",
    "for t in range(1,T):\n",
    "    for j in range(0,n):\n",
    "        L[j,t] = np.max(L[:,t-1]+np.log(a[:,j])) + np.log(b[j,obs[t]])\n",
    "        \n",
    "# Keep track of most likely states (back-tracking)\n",
    "state = np.zeros(T).astype(int)\n",
    "state[-1] = np.argmax(L[:,-1])\n",
    "\n",
    "for t in range(T-2, -1, -1):\n",
    "    state[t] = np.argmax(L[:,t] + np.log(a[:,state[t+1]]))\n",
    "\n",
    "# Helper function to get letters from values of hidden states\n",
    "def GetAlphabet(num):\n",
    "    if(num>=0 and num<=25):\n",
    "        return chr(97+num)\n",
    "    elif(num==26):\n",
    "        return ' '\n",
    "    else:\n",
    "        return ''\n",
    "\n",
    "# Get the result string from states\n",
    "result = \"\".join([GetAlphabet(state[t]) for t in range(0,T)])\n",
    "\n",
    "# Get the output message by ignore repeated characters in result string\n",
    "message = \"\"\n",
    "for ch in result:\n",
    "    if(message == \"\" or ch!=message[-1]):\n",
    "        message += ch\n",
    "        \n",
    "print(message)"
   ]
  },
  {
   "cell_type": "code",
   "execution_count": 6,
   "id": "55e0eb3a",
   "metadata": {},
   "outputs": [
    {
     "data": {
      "image/png": "[encoded data removed]",
      "text/plain": [
       "<Figure size 432x288 with 1 Axes>"
      ]
     },
     "metadata": {
      "needs_background": "light"
     },
     "output_type": "display_data"
    }
   ],
   "source": [
    "# Plot of the most likely sequence of hidden states versus time\n",
    "x = [i for i in range(len(state))]\n",
    "y = [state[i] for i in range(len(state))]\n",
    "\n",
    "alphabets = list(map(chr, range(97, 123)))\n",
    "alphabets.append('-')\n",
    "\n",
    "plt.plot(x,y)\n",
    "plt.xlabel(\"Time\")\n",
    "plt.ylabel(\"State\")\n",
    "plt.title(\"State vs Time plot\")\n",
    "plt.yticks(np.arange(27),alphabets)\n",
    "plt.savefig('StatevsTimePlot.png')\n",
    "plt.show()\n",
    "plt.close()"
   ]
  },
  {
   "cell_type": "code",
   "execution_count": null,
   "id": "b77e3464",
   "metadata": {},
   "outputs": [],
   "source": []
  }
 ],
 "metadata": {
  "kernelspec": {
   "display_name": "Python 3 (ipykernel)",
   "language": "python",
   "name": "python3"
  },
  "language_info": {
   "codemirror_mode": {
    "name": "ipython",
    "version": 3
   },
   "file_extension": ".py",
   "mimetype": "text/x-python",
   "name": "python",
   "nbconvert_exporter": "python",
   "pygments_lexer": "ipython3",
   "version": "3.9.12"
  }
 },
 "nbformat": 4,
 "nbformat_minor": 5
}
